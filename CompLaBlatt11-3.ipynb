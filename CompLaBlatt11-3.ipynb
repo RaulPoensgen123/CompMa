{
  "metadata": {
    "kernelspec": {
      "name": "python",
      "display_name": "Python (Pyodide)",
      "language": "python"
    },
    "language_info": {
      "codemirror_mode": {
        "name": "python",
        "version": 3
      },
      "file_extension": ".py",
      "mimetype": "text/x-python",
      "name": "python",
      "nbconvert_exporter": "python",
      "pygments_lexer": "ipython3",
      "version": "3.8"
    }
  },
  "nbformat_minor": 4,
  "nbformat": 4,
  "cells": [
    {
      "cell_type": "markdown",
      "source": "# Aufgabe 1",
      "metadata": {}
    },
    {
      "cell_type": "code",
      "source": "#!/usr/bin/env python3\n# -*- coding: utf-8 -*-\n\nimport numbers\nimport math\nimport matplotlib.pyplot as plt\nimport numpy as np\n\nclass Polynom:\n    ''' Polynom-Klasse '''\n\n    def __init__(self, dp, alg):\n\n        # Entferne alle Terme mit Koeffizienten 0\n        self.dp = {k: v for k, v in dp.items() if v != 0}\n        # falls dadurch dp leer wird, müssen wri dp auf das Nullpolynom setzen\n        if not self.dp:\n            self.dp = {0: 0}\n\n        self.alg = alg\n        self.degree = max(self.dp.keys())\n        # Die Überprüfung der Eingabe wurde in die __call__ Methode von alg verschoben\n\n    def _pstr(self):\n        ''' Hilfsfunktion zum Erstellen des Polynomstring \n            Die geschweiften Klammern um den Exponenten brauchen wir \n            für die Legende im Plot\n        '''\n        polystr = ''\n        for k, pk in reversed(sorted(self.dp.items())):\n            if isinstance(pk, complex):  # Klammern um komplexe Zahl\n                polystr = polystr + f'+({pk:.3f})*X^{{{k}}}'\n            elif round(pk) == pk:\n                polystr = polystr + f'+{pk:g}*X^{{{k}}}'\n            else:\n                polystr = polystr + f'+{pk:.3f}*X^{{{k}}}'\n        replacements = {\"*X^{0}\": \"\", \"X^{1}\": \"X\",\n                        \"+-1*\": \"-\", \"+1*\": \"+\", \"+-\": \"-\"}\n        for k, v in replacements.items():\n            polystr = polystr.replace(k, v)\n        polystr = polystr.lstrip('+')\n        return polystr\n\n    def _getfield(self, a, b):\n        '''\n        Hilfsfunktion um den Typ der algebraischen Struktur anzupassen.\n        So soll die Addition von einem Polynom in C[X] und einem in Z[X] \n        erlaubt sein und ein Polynom in C[X] liefern.\n        '''\n        if a.field is numbers.Complex or b.field is numbers.Complex:\n            field_str_ = 'C'\n        elif a.field is numbers.Real or b.field is numbers.Real:\n            field_str_ = 'R'\n        else:\n            field_str_ = 'Z'\n        #if hasattr(a, 'dim'): # fuer Vektorraeume\n        #    return field_str_, a.dim\n        return field_str_\n        \n    def __repr__(self):\n        polystr = self._pstr()\n        return f'{__class__.__name__} in  {self.alg}  {polystr}'\n\n    def __str__(self):\n        polystr = self._pstr()\n        return f'{__class__.__name__} {polystr}'\n\n    def __add__(self, other):\n        ''' \n            Addition von Polynomen, damit\n            für Polynome p und q  p+q die Summe berechnet\n        '''\n        if isinstance(other, numbers.Number):\n            other = self.alg(other)\n        Kdim = self._getfield(self.alg,other.alg)\n        alg_ = self.alg.__class__(*Kdim)\n        return self.__class__(self.alg.add(self, other), alg_)\n\n    def __radd__(self, other):\n        ''' \n            Addition von Polynomen, damit\n            für eine Zahl p und ein Polynom q\n            auch p+q funktioniert\n        '''\n        if isinstance(other, numbers.Number):\n            other = self.alg(other)\n        Kdim = self._getfield(self.alg,other.alg)\n        alg_ = self.alg.__class__(*Kdim)            \n        return self.__class__(self.alg.add(other, self), alg_)\n\n    def __sub__(self, other):\n        if isinstance(other, numbers.Number):\n            other = self.alg(other)\n        Kdim = self._getfield(self.alg,other.alg)\n        alg_ = self.alg.__class__(*Kdim)            \n        return self.__class__(self.alg.minus(self, other), alg_)\n\n    def __rsub__(self, other):\n        if isinstance(other, numbers.Number):\n            other = self.alg(other)\n        Kdim = self._getfield(self.alg,other.alg)\n        alg_ = self.alg.__class__(*Kdim)\n        return self.__class__(self.alg.minus(other, self), alg_)\n\n    def __mul__(self, other):\n        if isinstance(other, numbers.Number):\n            other = self.alg(other)\n        Kdim = self._getfield(self.alg,other.alg)\n        alg_ = self.alg.__class__(*Kdim)            \n        return self.__class__(self.alg.mul(self, other), alg_)\n\n    def __rmul__(self, other):\n        if isinstance(other, numbers.Number):\n            other = self.alg(other)\n        Kdim = self._getfield(self.alg,other.alg)\n        alg_ = self.alg.__class__(*Kdim)        \n        return self.__class__(self.alg.mul(other, self), alg_)\n\n    def __neg__(self):\n        return self.__class__(self.alg.neg(self), self.alg)\n\n    def __eq__(self, other):\n        return self.dp == other.dp and self.alg == other.alg\n\n    def __call__(self, x):\n        ''' Auswertung eines Polynoms p an der Stelle x mit p(x) '''\n        return sum((pk*x**k for k, pk in self.dp.items()))\n\n    def __pow__(self, n):\n        \"\"\"Potenzieren mit einer natürlichen Zahl\"\"\"\n        if isinstance(n, int) and n >= 0:\n            erg = self.__class__({0:1}, self.alg)\n            for k in range(n):\n                erg *= self\n            return erg\n        else:\n            raise NotImplementedError()\n\n\nclass PolyGruppe:\n    ''' \n        Polynome als additive Grupppe über Ring/Körper\n\n        PolyGruppe(field_str) \n\n        field_str darf hier C, R oder Z sein\n        für komplexe, reelle bzw. ganze Zahlen\n    '''\n\n    def __init__(self, field_str):\n        self.field_str = field_str\n        if field_str == 'C':\n            self.field = numbers.Complex\n        elif field_str == 'R':\n            self.field = numbers.Real\n        elif field_str == 'Z':\n            self.field = numbers.Integral\n        else:\n            raise AssertionError(\n                f\" 'field_str' {field_str} muss 'C', 'R', oder 'Z' sein\")\n\n    def __repr__(self):\n        return f'Gruppe ({self.field_str}[X],+)'\n\n    def __call__(self, dp):\n        if isinstance(dp, numbers.Number):\n            dp = {0: dp}\n        self.validate(dp)\n        return Polynom(dp, self)\n\n    def validate(self, dp):\n        '''Test der Eingaben'''\n\n        assert all(isinstance(x, int) and x >= 0 for x in dp.keys()), \\\n            \"Die Exponenten (keys) müssen natürliche Zahlen (einschl. 0) sein.\"\n        assert all((isinstance(v, self.field) for v in dp.values())), \\\n            f'Für {self} müssen alle Koeffizienten in {dp} \"{self.field.__name__}\" sein.'\n\n    def __eq__(self, other):\n        return self.field == other.field\n\n    def add(self, p, q):\n        ''' Polynomaddition'''\n        erg = {n: p.dp.get(n, 0) + q.dp.get(n, 0)\n               for n in set(p.dp) | set(q.dp)}\n        return erg\n\n    def minus(self, p, q):\n        ''' Polynomsubtraktion'''\n        erg = {n: p.dp.get(n, 0) - q.dp.get(n, 0)\n               for n in set(p.dp) | set(q.dp)}\n        return erg\n\n    def neg(self, p):\n        ''' additive Inverse '''\n        erg = {k: -v for k, v in p.dp.items()}\n        return erg\n\n\nclass PolyRing(PolyGruppe):\n    ''' Polynome als Ring über Ring/Körper\n        C[X], R[X] bzw Z[X]\n\n        PolyRing(field_str) \n\n        field_str darf hier C, R oder Z sein\n        für komplexe, reelle bzw. ganze Zahlen '''\n\n    def __repr__(self):\n        return f'{self.field_str}[X]'\n\n    def mul(self, p, q):\n        ''' Multiplikation im Polynomring'''\n        erg = {}\n        for i, pi in p.dp.items():\n            for j, qj in q.dp.items():\n                ipj = i+j\n                if ipj in erg:\n                    erg[ipj] += pi*qj\n                else:\n                    erg[ipj] = pi*qj\n        return erg\n\n\n\nif __name__ == '__main__':\n    \n    RX = PolyRing('R')\n    p = RX({1:1,0:-1})\n    print(p**2)\n    #p = RX({2:1,0:-1}) # p(x) x^2-1\n\n    #p.plot()\n    \n    #p.plot(xmin=-1)\n    \n    #fig = plt.figure(10)\n    #p.plot(fig, xmax=2, style='r-')\n\n",
      "metadata": {
        "trusted": true
      },
      "outputs": [
        {
          "name": "stdout",
          "text": "Polynom X^{2}-2*X+1\n",
          "output_type": "stream"
        }
      ],
      "execution_count": 243
    },
    {
      "cell_type": "code",
      "source": "import numpy as np\ndef LinUnabh_Poly(a):\n    grad=max([p.degree for p in a])                               #Maximalen Grad der Polynome bestimmen\n    matrix=np.zeros((grad+1,len(a)))                              #Matrix, die später die Koeffizienten enthält, erstellen\n    for p in range(len(a)):                                       #Polynome durchgehen\n        for i in range(grad+1):                                   #In jedem Polynom die Koeffizienten durchgehen\n            if i in a[p].dp.keys():                               #Prüfen, ob der Koeffizient ungleich 0 ist (ist er gleich 0, so ist der Exponent nicht im Dictionary dp)\n                matrix[i,p]=a[p].dp[i]                            #Wert in die Matrix übertragen\n    return np.linalg.matrix_rank(matrix)==min(len(a),grad+1)      #Prüfen ob der Rang voll ist",
      "metadata": {
        "trusted": true
      },
      "outputs": [],
      "execution_count": 244
    },
    {
      "cell_type": "code",
      "source": "LinUnabh_Poly([RX({2:1,0:-1}),RX({1:1,0:-1})])",
      "metadata": {
        "trusted": true
      },
      "outputs": [
        {
          "execution_count": 242,
          "output_type": "execute_result",
          "data": {
            "text/plain": "True"
          },
          "metadata": {}
        }
      ],
      "execution_count": 245
    },
    {
      "cell_type": "code",
      "source": "LinUnabh_Poly([RX({2:1,0:-1}),RX({2:2,0:-2})])",
      "metadata": {
        "trusted": true
      },
      "outputs": [
        {
          "execution_count": 243,
          "output_type": "execute_result",
          "data": {
            "text/plain": "False"
          },
          "metadata": {}
        }
      ],
      "execution_count": 246
    },
    {
      "cell_type": "code",
      "source": "B0=RX({4:1,3:-4,2:6,1:-4,0:1})\nB1=RX({4:-4,3:12,2:-12,1:4})\nB2=RX({4:6,3:-12,2:6})\nB3=RX({4:-4,3:4})\nB4=RX({4:1})",
      "metadata": {
        "trusted": true
      },
      "outputs": [],
      "execution_count": 247
    },
    {
      "cell_type": "code",
      "source": "LinUnabh_Poly([B0,B1,B2,B3,B4])",
      "metadata": {
        "trusted": true
      },
      "outputs": [
        {
          "execution_count": 245,
          "output_type": "execute_result",
          "data": {
            "text/plain": "True"
          },
          "metadata": {}
        }
      ],
      "execution_count": 248
    },
    {
      "cell_type": "markdown",
      "source": "# Aufgabe 2",
      "metadata": {}
    },
    {
      "cell_type": "code",
      "source": "#!/usr/bin/env python3\n# -*- coding: utf-8 -*-\n\n# Musterlösung für Aufgabe 33\n\nimport numpy as np\n\n\n# Vorwärtssubstitution\n\ndef vorwaerts(L, b):\n    n = L.shape[0]\n    \n    assert (n == L.shape[1] and n == b.shape[0] and b.shape[1] == 1),\\\n        \"Dimensionen passen nicht.\"\n    \n    assert np.prod(L.diagonal()), \"L ist nicht invertierbar.\"\n    # alternativ:\n    #assert (not(any(np.diag(L) == 0))), \"L ist nicht invertierbar.\"\n    # oder:\n    # Die Überprüfung geht natürlich auch in der Schleife, in dem jedes\n    # Diagonalelement überprüft wird.\n    \n    x = np.zeros_like(b, dtype=float)\n    x[0] = b[0]/L[0, 0]\n    for i in range(1, n):\n        x[i] = (b[i] - L[i, :i] @ x[:i])/L[i, i]\n        \n    return x\n\n\n\n# Rückwärtssubstitution\n\ndef rueckwaerts(R, b):\n    n = R.shape[0]\n    \n    assert (n == R.shape[1] and n == b.shape[0] and b.shape[1] == 1),\\\n        \"Dimensionen passen nicht.\"\n    \n    assert np.prod(R.diagonal()), \"R ist nicht invertierbar.\"\n    \n    x = np.zeros_like(b, dtype=float)\n    x[n-1] = b[n-1]/R[n-1, n-1]\n    for i in range(n-2, -1, -1):\n        x[i] = (b[i] - R[i, i+1:] @ x[i+1:])/R[i, i]\n        \n    return x\n\n\n",
      "metadata": {
        "trusted": true
      },
      "outputs": [],
      "execution_count": 249
    },
    {
      "cell_type": "code",
      "source": "import scipy as sc\ndef lgsloeser(A,b):\n    P,L,R=sc.linalg.lu(A)                    #LR-Zerlegung speichern\n    z=P.T@b                                  #PLR=A, also LR=P^(-1)A=P.T@A, weil Permutationsmatrizen sind orthogonal. Also Ax=b genau dann wenn LRx=P.Tb:=z.\n    y=vorwaerts(L,z.reshape(z.shape[0],1))   #Gleichung Ly=z nach y lösen\n    return rueckwaerts(R,y)                  #Gleichung Rx=y nach x lösen und ausgeben",
      "metadata": {
        "trusted": true
      },
      "outputs": [],
      "execution_count": 250
    },
    {
      "cell_type": "code",
      "source": "#!/usr/bin/env python3\n# -*- coding: utf-8 -*-\n\n# Aufgabenkontrolle11.py\n\nimport numpy as np\n\n\ndef Aufgabe42(testfunktion):\n    '''Aufgabe40 testet automatisch, ob die übergebene Funktion \"testfunktion\"\n    die Anforderungen aus Aufgabe 42 erfüllt.\n    Dazu löst es mit \"testfunktion\" einige lineare Gleichungssysteme\n    verschiedener Größe und überprüft das Residuum.\n    '''\n    print('')\n    print('Ihre Funktion wird jetzt mit 4 Gleichungssystemen getestet.');\n    print('Wenn die Norm des Residuums klein ist (<10^-8), ist der Test bestanden.')\n    print('')\n    \n    AsUndBs = [\n        (np.array([\n            [ 0, 1, 2 ],\n            [ 1, 2, 5 ],\n            [ 2, 3, 4 ],\n        ], dtype = float), np.random.rand(3, 1)),\n        _generierteZufallsmatrixMitGuterKonditionUndVektor(5, float),\n        _generierteZufallsmatrixMitGuterKonditionUndVektor(100, int),\n        _generierteZufallsmatrixMitGuterKonditionUndVektor(100, float),\n    ]\n    texte = [\n        \"der Matrix\\n{0}\",\n        \"einer reellen {0.shape[0]} x {0.shape[1]} Matrix\",\n        \"einer ganzzahligen {0.shape[0]} x {0.shape[1]} Matrix\",\n        \"einer reellen {0.shape[0]} x {0.shape[1]} Matrix\",\n    ]\n    \n    tb = 0\n    for (A, b), text in zip(AsUndBs , texte):\n        text = text.format(A)\n        print(f\"Teste mit {text}.\")\n        x = testfunktion(A.copy(), b)\n        residuum = A @ x - b\n        resNorm = np.linalg.norm(residuum)\n        print(f\"Die Norm des Residuums ist {resNorm}.\\n\")\n        if resNorm < 1e-8:\n            tb += 1\n    \n    print(f'{tb} von {len(AsUndBs)} Tests erfolgreich')\n\n\ndef _generierteZufallsmatrixMitGuterKonditionUndVektor(N, typ):\n    \"\"\"\n    Generiert eine Zufallsmatrix vorgegebener Größe und vorgegebenem Typs\n    so, dass die Konditionszahl der Matrix gut ist.\n    \"\"\"\n    while True:\n        # Wir raten so lange Matrizen, bis die Kondition der geratenen Matrix\n        # gut ist.\n        A = 200 * ((np.random.rand(N, N) - 1/2) * 2)\n        A = A.astype(typ)\n        if typ == complex:\n            # Rate zusätzlichen Imaginärteil (brauchen wir hier nicht)\n            A += 1j * 200 * ((np.random.rand(N, N) - 1/2) * 2)\n        if np.linalg.cond(A) <= N:\n            break\n    b = np.random.rand(N, 1)\n    return A, b\n    \n    \ndef TestLR_Bruch(testfunktion):\n    m = 10\n    print(f'Ihre Funktion wird jetzt mit 3 ({m}x{m})-Matrizen getestet...');\n    A = _zufallsmatINT(m)\n    B = _zufallsmatBRUCH(m)\n    C1 = _zufallsmatINT(m)\n    C = _zufallsmatBRUCH(m)\n    for i in range(m):\n        for j in range(m):\n            zufallsindex = np.random.randint(0,2)\n            if zufallsindex == 0:\n                C[i, j] = C1[i, j]\n    texte = ['Matrix mit Integer-Einträgen',\\\n             'Matrix mit Bruch-Einträgen',\\\n             'Matrix mit gemischten Einträgen']\n    tb = 0\n    for M, text in zip([A, B, C], texte):\n        print('Teste ' + text + ':')\n        p, MLR = testfunktion(M)\n        R = np.triu(MLR)\n        L = np.eye(MLR.shape[0], dtype=int) + np.tril(MLR, -1)\n        erg = np.equal(M[p,:], L@R).all()\n        print(f'Das Ergebnis ist {\"richtig\" if erg else \"falsch\"}.');\n        if erg:\n            tb += 1;\n    \n    print(f'{tb} von 3 Tests erfolgreich.');\n\ndef _zufallsmatINT(m, Null = True):\n    mat = np.random.randint(-20,20, m**2)\n    if Null == False:\n        mat[mat == 0] += 1\n    return mat.reshape(m,m)\n\ndef _zufallsmatBRUCH(m):\n    ZufINT1 = _zufallsmatINT(m)\n    ZufINT2 = _zufallsmatINT(m, Null = False)\n    MatBRUCH = np.zeros((m,m), dtype=Bruch)\n    for i in range(m):\n        for j in range(m):\n            MatBRUCH[i,j] = Bruch(int(ZufINT1[i,j]), int(ZufINT2[i,j]))\n    return MatBRUCH\n\n",
      "metadata": {
        "trusted": true
      },
      "outputs": [],
      "execution_count": 251
    },
    {
      "cell_type": "code",
      "source": "Aufgabe42(lgsloeser)",
      "metadata": {
        "trusted": true
      },
      "outputs": [
        {
          "name": "stdout",
          "text": "",
          "output_type": "stream"
        },
        {
          "name": "stdout",
          "text": "\nIhre Funktion wird jetzt mit 4 Gleichungssystemen getestet.\nWenn die Norm des Residuums klein ist (<10^-8), ist der Test bestanden.\n\nTeste mit der Matrix\n[[0. 1. 2.]\n [1. 2. 5.]\n [2. 3. 4.]].\nDie Norm des Residuums ist 1.1102230246251565e-16.\n\nTeste mit einer reellen 5 x 5 Matrix.\nDie Norm des Residuums ist 1.5700924586837752e-16.\n\nTeste mit einer ganzzahligen 100 x 100 Matrix.\nDie Norm des Residuums ist 5.71057562494717e-14.\n\nTeste mit einer reellen 100 x 100 Matrix.\nDie Norm des Residuums ist 3.9538092681129646e-14.\n\n4 von 4 Tests erfolgreich\n",
          "output_type": "stream"
        }
      ],
      "execution_count": 252
    },
    {
      "cell_type": "markdown",
      "source": "# Aufgabe 3",
      "metadata": {}
    },
    {
      "cell_type": "code",
      "source": "#Aufgabe 43a:\n\n#Die Methoden __radd__,__rmul__,... sind dazugekommen. \n#Sie erlauben rechnen mit Skalaren auch in verkehrter Reihenfolge.\n#Vorher durfe bei a+b nur b auch ein ein Integer sein.\n#Das r in __radd__,... steht wahrscheinlich für reverse.\n#Die Methode __eq__ ist dazugekommen.\n#Sie testet Gleichheit von Brüchen.\n#Die Methode __pow__ ist dazugekommen.\n#Sie erlaubt das Potenzieren von Brüchen.",
      "metadata": {
        "trusted": true
      },
      "outputs": [],
      "execution_count": 253
    },
    {
      "cell_type": "code",
      "source": "#!/usr/bin/env python3\n# -*- coding: utf-8 -*-\n\n\"\"\"\nStand: Donnerstag, 19.12.\n\n\"\"\"\n\n# In diesem Modul finden Sie die verbesserte und erweiterte Musterlösung zur\n# Bruchklasse aus Aufgabe 15.\n\n\n\n# Sie können die Datei als Skript ausführen, oder als Modul z.B. mit\n# import bruch as beliebigerName\n# oder nur die Klasse Bruch mit\n# from bruch import Bruch\n# laden.\n\n\nclass Bruch():\n    '''Bruchklasse'''\n\n    from math import gcd\n\n    def __init__(self, zaehler=0, nenner=1):\n        '''Initialisieren, Zähler und Nenner können als Integer oder Objekte\n        der Klasse Bruch übergeben werden'''\n        if type(nenner) is int:\n            if type(zaehler) is int:\n                self.zaehler = zaehler\n                self.nenner = nenner\n            elif isinstance(zaehler, Bruch):\n                self.zaehler = zaehler.zaehler\n                self.nenner = zaehler.nenner * nenner\n            else:\n                raise NotImplementedError\n        elif isinstance(nenner, Bruch):\n            if type(zaehler) is int:\n                self.zaehler = zaehler * nenner.nenner\n                self.nenner = nenner.zaehler\n            elif isinstance(zaehler, Bruch):\n                self.zaehler = zaehler.zaehler * nenner.nenner\n                self.nenner = zaehler.nenner * nenner.zaehler\n            else:\n                raise NotImplementedError\n        elif nenner == 0:\n            raise ZeroDivisionError\n        else:\n            raise NotImplementedError\n\n        if self.nenner < 0:\n            self.zaehler, self.nenner = self.__kuerzen__(\n                -self.zaehler, -self.nenner)\n        else:\n            self.zaehler, self.nenner = self.__kuerzen__(\n                self.zaehler, self.nenner)\n\n    def __kuerzen__(self, zaehler, nenner):\n        '''Zähler und Nenner kürzen'''\n        # Die Unterstriche in der Benennung sorgen dafür, dass die Funktion\n        # versteckt ist. D.h. definiert man außerhalb einen Bruch a, zeigt die\n        # Eingabe von a. und (TAB) nur nicht-versteckte Methoden, wie z.B.\n        # tofloat an, aber nicht die Methode kuerzen. Das ist hier sinnvoll,\n        # weil intern immer ein gekürzter Bruch gespeichert werden soll und wir\n        # außerhalb die Methode kuerzen niemals ausführen werden.\n        ggT = self.gcd(zaehler, nenner)\n        # ganzzahlige Division\n        return zaehler//ggT, nenner//ggT\n\n    def __add__(self, other):\n        '''Methode zum Addieren (a+b), wobei a ein Bruch und b ein Integer \n        oder Bruch ist'''\n        if isinstance(other, int):\n            other = Bruch(other)\n        zaehler = self.zaehler*other.nenner + other.zaehler*self.nenner\n        nenner = self.nenner*other.nenner\n        return Bruch(zaehler, nenner)\n\n    def __sub__(self, other):\n        '''Methode zum Subtrahieren (a-b), wobei a ein Bruch und b ein Integer \n        oder Bruch ist'''\n        if isinstance(other, int):\n            other = Bruch(other)\n        return self + Bruch(-other.zaehler, other.nenner)\n\n    def __truediv__(self, other):\n        '''Methode zum Dividieren (a/b), wobei a ein Bruch und b ein Integer \n        oder Bruch ist'''\n        if isinstance(other, int):\n            other = Bruch(other)\n        zaehler = self.zaehler * other.nenner\n        nenner = self.nenner * other.zaehler\n        return Bruch(zaehler, nenner)\n\n    def __mul__(self, other):\n        '''Methode zum Multiplizieren (a*b), wobei a ein Bruch und b ein Integer \n        oder Bruch ist'''\n        if isinstance(other, int):\n            other = Bruch(other)\n        zaehler = self.zaehler * other.zaehler\n        nenner = self.nenner * other.nenner\n        return Bruch(zaehler, nenner)\n\n    # Umgekehrte Multiplikation, so dass auch Skalar*Bruch funktioniert:\n    __rmul__ = __mul__\n\n    # Umgekehrte Addition, so dass auch Skalar+Bruch funktioniert:\n    __radd__ = __add__\n\n    def __rsub__(self, other):\n        '''Methode für umgekehrte Subtraktion (b-a), wobei a ein Bruch und b\n        ein Integer oder Bruch ist'''\n        if isinstance(other, int):\n            other = Bruch(other)\n        return other - self\n\n    def __rtruediv__(self, other):\n        '''Methode für umgekehrte Divison b/a, wobei a ein Bruch und b\n        ein Integer oder Bruch ist'''\n        if isinstance(other, int):\n            other = Bruch(other)\n        return other / self\n\n    def __eq__(self, other):\n        '''Methode zum Prüfen von Gleichheit (a==b), wobei a und b Brüche, \n        Floats oder Integer sein können'''\n        if isinstance(other, (int, float)):\n            return self.zaehler == self.nenner * other\n        else:\n            return self.zaehler*other.nenner == other.zaehler*self.nenner\n\n    def __pow__(self, skalar):\n        '''Methode zum Potenzieren (a**n) für Bruch a und ganze Zahl n'''\n        if isinstance(skalar, int) and skalar >= 0:\n            return Bruch(self.zaehler**skalar, self.nenner**skalar)\n        elif isinstance(skalar, int) and skalar < 0:\n            return Bruch(self.nenner**(-skalar), self.zaehler**(-skalar))\n        else:\n            raise NotImplementedError\n\n    def tofloat(self):\n        '''Methode zum Umwandeln des Bruchs in einen Float '''\n        return self.zaehler/self.nenner\n\n    ''' Die folgenden beiden Methoden dienen dazu, dass Sie den Bruch sehen \n    wenn Sie ein Bruch-Objekt in die Konsole tippen oder print() übergeben.\n    '''\n\n    def __str__(self):\n        return '{:d}/{:d}'.format(self.zaehler, self.nenner)\n\n    def __repr__(self):\n        return '{:d}/{:d}'.format(self.zaehler, self.nenner)\n\n\n\n    #Aufgabe 43b:\n\n    \n\n    def __lt__(self,other):\n        return self.zaehler*Bruch(other).nenner<self.nenner*Bruch(other).zaehler    #Auf Hauptnenner erweitern, Methodennamen standen auf Website, Bruch um other, weil es ein int sein könnte.\n\n    def __le__(self,other):\n        return self.zaehler*Bruch(other).nenner<=self.nenner*Bruch(other).zaehler\n\n    def __gt__(self,other):\n        return self.zaehler*Bruch(other).nenner>self.nenner*Bruch(other).zaehler     \n\n    def __ge__(self,other):\n        return self.zaehler*Bruch(other).nenner>=self.nenner*Bruch(other).zaehler\n\n    def __abs__(self):\n        if self.zaehler>=0:\n            return self\n        else:\n            return Bruch(-self.zaehler,self.nenner)                    #Wenn Zaehler negativ ist, gilt abs(Bruch)=-Bruch, sonst abs(Bruch)=Bruch.\n\n\n\n\nif __name__ == '__main__':\n\n    a = Bruch(5, -2)\n    b = Bruch(8, 4)\n    c = Bruch(0, 9)\n    print('\\n---Ein paar Tests---\\n')\n    print('gekürztes b:', b)\n    print('Multiplikation a*c:', a*c)\n    print('Addition a+b:', a+b)\n    print('Addition a+3:', a+3)\n    print('Division:', a/b)\n    print('a gleich b?', a == b)\n    print('b gleich 2?', b == 2)\n    print('a hoch -3:', a**(-3))\n\n",
      "metadata": {
        "trusted": true
      },
      "outputs": [
        {
          "name": "stdout",
          "text": "\n---Ein paar Tests---\n\ngekürztes b: 2/1\nMultiplikation a*c: 0/1\nAddition a+b: -1/2\nAddition a+3: 1/2\nDivision: -5/4\na gleich b? False\nb gleich 2? True\na hoch -3: -8/125\n",
          "output_type": "stream"
        }
      ],
      "execution_count": 254
    },
    {
      "cell_type": "code",
      "source": "#!/usr/bin/env python3\n# -*- coding: utf-8 -*-\n\n\n\n\n#Aufgabe 43c:\n\n\n\n\n# Musterlösung für Aufgabe 35\n\nimport numpy as np\n\ndef intify(A):                                                         #np.int32 ist komisch und gibt oft Fehlermeldungen, kommt aber manchmal bei Rechnungen in die Matrix. Das wird hier aufgehoben.\n    n = A.shape[0]\n    for i in range(n):                                                 #Matrixeinträge durchgehen, falls sie np.int32 sind, werden sie zu int gemacht.\n        for j in range(n):\n            if isinstance(A[i,j],np.int32):\n                A[i,j]=int(A[i,j])\n                \ndef LR_kompakt(A):\n    A = A.astype(Bruch).copy()                                         #Genau wie in der Musterlösung, nur dass jetzt mit Brüchen statt floats gerechnet wird.\n    n = A.shape[0]\n    p = np.arange(n)\n    \n    for kk in range(n-1):\n        intify(A)                                                      #np.int32 loswerden\n        ll = kk + np.argmax(abs(A[kk:, kk]))\n        A[[kk, ll]] = A[[ll, kk]]\n        p[[kk, ll]] = p[[ll, kk]]\n        for i in range(kk+1,n):                                        #Einzige wirkliche Änderung: Division mit __truediv__ eintragsweise, wobei der Zähler erst zum Bruch gemacht werden muss, falls er int ist.\n            A[i, kk] = Bruch(A[i, kk]).__truediv__(A[kk, kk])\n        A[kk + 1:, kk+1:] -= A[kk +1:, [kk]] @ A[[kk], kk + 1:]        #Rest genau wie vorher\n        \n    return p, A",
      "metadata": {
        "trusted": true
      },
      "outputs": [],
      "execution_count": 255
    },
    {
      "cell_type": "code",
      "source": "TestLR_Bruch(LR_kompakt)",
      "metadata": {
        "trusted": true
      },
      "outputs": [
        {
          "name": "stdout",
          "text": "Ihre Funktion wird jetzt mit 3 (10x10)-Matrizen getestet...\nTeste Matrix mit Integer-Einträgen:\nDas Ergebnis ist richtig.\nTeste Matrix mit Bruch-Einträgen:\nDas Ergebnis ist richtig.\nTeste Matrix mit gemischten Einträgen:\nDas Ergebnis ist richtig.\n3 von 3 Tests erfolgreich.\n",
          "output_type": "stream"
        }
      ],
      "execution_count": 256
    },
    {
      "cell_type": "markdown",
      "source": "# Aufgabe 4",
      "metadata": {}
    },
    {
      "cell_type": "code",
      "source": "#Einfach der übertragene Pseudocode.\ndef GramSchmidt(A):\n    n = A.shape[0]\n    R = np.zeros((n,n))\n    q = np.zeros((n,n))\n    for k in range(n):\n        q[:,k] = A[:,k]\n        if not k == 0:\n            summe=np.zeros(n)\n            for j in range(k):\n                R[j,k] = np.dot(q[:,j],q[:,k])\n                summe += R[j,k]*q[:,j]\n            q[:,k] -= summe\n        R[k,k] = np.linalg.norm(q[:,k])\n        q[:,k] /= R[k,k]\n    return q,R",
      "metadata": {
        "trusted": true
      },
      "outputs": [],
      "execution_count": 257
    },
    {
      "cell_type": "code",
      "source": "#Einfach der übertragene Pseudocode.\ndef GramSchmidt_mod(A):\n    n = A.shape[0]\n    R = np.zeros((n,n))\n    q = np.zeros((n,n))\n    for k in range(n):\n        q[:,k] = A[:,k]\n        for i in range(k):\n            R[i,k] = np.dot(q[:,i],q[:,k])\n            q[:,k] -= R[i,k]*q[:,i]\n        R[k,k] = np.linalg.norm(q[:,k])\n        q[:,k] /= R[k,k]\n    return q,R",
      "metadata": {
        "trusted": true
      },
      "outputs": [],
      "execution_count": 258
    },
    {
      "cell_type": "code",
      "source": "N=10                                                   #Größe der Testmatrix\nA=200 * ((np.random.rand(N, N) - 1/2) * 2)             #Zufällige Float-Testmatrix (geklaut aus Aufgabenkontrolle11)\nq,R=GramSchmidt(A)                                     #Auswertung der Methoden\nq2,R2=GramSchmidt_mod(A)\nprint(np.linalg.det(q))                                #Hier sieht man den Unterschied zwischen den Methoden - die Determinante kann leicht anders sein. Immer 1 oder -1, weil q Orthogonal ist.\nprint(np.linalg.det(q2))\nprint(np.allclose(q.T@q,np.eye(N,N)))                  #Testet, ob q und q2 wirklich Orthogonalmatrizen sind, die Spalten also eine Orthonormalbasis bilden.\nprint(np.allclose(q2.T@q2,np.eye(N,N)))\nprint(np.allclose(q@R,A))                              #Testet, ob die Matrix R tatsächlich wie gewollt die Gleichung qR=A erfüllt.\nprint(np.allclose(q2@R2,A))",
      "metadata": {
        "trusted": true
      },
      "outputs": [
        {
          "name": "stdout",
          "text": "1.0\n1.0000000000000002\nTrue\nTrue\nTrue\nTrue\n",
          "output_type": "stream"
        }
      ],
      "execution_count": 259
    }
  ]
}